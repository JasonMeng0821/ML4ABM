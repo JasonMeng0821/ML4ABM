{
 "cells": [
  {
   "cell_type": "code",
   "execution_count": 1,
   "metadata": {},
   "outputs": [],
   "source": [
    "import pandas as pd \n",
    "import numpy as np\n",
    "import random\n",
    "result = pd.read_csv('../data/5_before2016.csv').dropna()\n",
    "X_train = result.loc[:,'actq':'lastactual6']\n",
    "y_train = result.loc[:,'actual']\n",
    "anlest_train = result.loc[:,'meanest']\n",
    "N_train = result.shape[0]\n",
    "\n",
    "result1 = pd.read_csv('../data/5_after2016.csv').dropna()\n",
    "X_test = result1.loc[:,'actq':'lastactual6']\n",
    "y_test = result1.loc[:,'actual']\n",
    "anlest_test = result1.loc[:,'meanest']\n",
    "N_test = result1.shape[0]"
   ]
  },
  {
   "cell_type": "code",
   "execution_count": 2,
   "metadata": {},
   "outputs": [
    {
     "name": "stdout",
     "output_type": "stream",
     "text": [
      "0.11070039738568935 0.8714780330337392 0.9632945570691187 0.711039996581152 0.0\n"
     ]
    }
   ],
   "source": [
    "from sklearn.preprocessing import StandardScaler\n",
    "from sklearn.metrics import mean_squared_error\n",
    "from sklearn.metrics import r2_score\n",
    "from sklearn.svm import SVR\n",
    "\n",
    "scaler = StandardScaler()\n",
    "scaler.fit(X_train)\n",
    "\n",
    "reg = SVR(kernel=\"linear\")\n",
    "reg.fit(scaler.transform(X_train), y_train)\n",
    "\n",
    "y_lr = reg.predict(scaler.transform(X_test))\n",
    "ymean = [np.mean(y_test) for i in range(len(y_test))]\n",
    "mse_analyst = mean_squared_error(anlest_test, y_test)\n",
    "mse_lr = mean_squared_error(y_lr, y_test)\n",
    "r2_analyst = r2_score(y_test, anlest_test)\n",
    "r2_lr = r2_score(y_test, y_lr)\n",
    "r2 = r2_score(y_test, ymean)\n",
    "print(mse_analyst, mse_lr, r2_analyst, r2_lr, r2)"
   ]
  },
  {
   "cell_type": "code",
   "execution_count": 3,
   "metadata": {},
   "outputs": [
    {
     "data": {
      "text/plain": [
       "(0.6286212914485165, 0.4656195462478185, 0.10575916230366492)"
      ]
     },
     "execution_count": 3,
     "metadata": {},
     "output_type": "execute_result"
    }
   ],
   "source": [
    "def withinten(y_true, y_pred):\n",
    "    sum1 = 0\n",
    "    for i in range(len(y_pred)):\n",
    "        if(y_pred[i] < 1.1*y_true[i] and y_pred[i] > 0.9*y_true[i]):\n",
    "            sum1+=1\n",
    "    return sum1/len(y_pred)\n",
    "withinten(list(y_test), list(anlest_test)), withinten(list(y_test), y_lr), withinten(list(y_test), ymean)"
   ]
  },
  {
   "cell_type": "code",
   "execution_count": 4,
   "metadata": {},
   "outputs": [
    {
     "name": "stdout",
     "output_type": "stream",
     "text": [
      "0.11070039738568935 1.3272842169395311 0.9632945570691187 0.5599062313372374 0.0\n"
     ]
    }
   ],
   "source": [
    "from sklearn.ensemble import RandomForestRegressor\n",
    "\n",
    "forest = RandomForestRegressor(\n",
    "    n_estimators=100,\n",
    "    random_state=1,\n",
    "    n_jobs=-1)\n",
    "forest.fit(scaler.transform(X_train), y_train)\n",
    "\n",
    "y_lr = forest.predict(scaler.transform(X_test))\n",
    "ymean = [np.mean(y_test) for i in range(len(y_test))]\n",
    "mse_analyst = mean_squared_error(anlest_test, y_test)\n",
    "mse_lr = mean_squared_error(y_lr, y_test)\n",
    "r2_analyst = r2_score(y_test, anlest_test)\n",
    "r2_lr = r2_score(y_test, y_lr)\n",
    "r2 = r2_score(y_test, ymean)\n",
    "print(mse_analyst, mse_lr, r2_analyst, r2_lr, r2)"
   ]
  },
  {
   "cell_type": "code",
   "execution_count": 5,
   "metadata": {},
   "outputs": [
    {
     "data": {
      "text/plain": [
       "(0.6286212914485165, 0.44502617801047123, 0.10575916230366492)"
      ]
     },
     "execution_count": 5,
     "metadata": {},
     "output_type": "execute_result"
    }
   ],
   "source": [
    "def withinten(y_true, y_pred):\n",
    "    sum1 = 0\n",
    "    for i in range(len(y_pred)):\n",
    "        if(y_pred[i] < 1.1*y_true[i] and y_pred[i] > 0.9*y_true[i]):\n",
    "            sum1+=1\n",
    "    return sum1/len(y_pred)\n",
    "withinten(list(y_test), list(anlest_test)), withinten(list(y_test), y_lr), withinten(list(y_test), ymean)"
   ]
  },
  {
   "cell_type": "code",
   "execution_count": null,
   "metadata": {},
   "outputs": [],
   "source": []
  }
 ],
 "metadata": {
  "kernelspec": {
   "display_name": "Python 3",
   "language": "python",
   "name": "python3"
  },
  "language_info": {
   "codemirror_mode": {
    "name": "ipython",
    "version": 3
   },
   "file_extension": ".py",
   "mimetype": "text/x-python",
   "name": "python",
   "nbconvert_exporter": "python",
   "pygments_lexer": "ipython3",
   "version": "3.9.1"
  },
  "orig_nbformat": 4
 },
 "nbformat": 4,
 "nbformat_minor": 2
}

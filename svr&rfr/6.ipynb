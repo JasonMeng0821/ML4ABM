{
 "cells": [
  {
   "cell_type": "code",
   "execution_count": 1,
   "metadata": {},
   "outputs": [],
   "source": [
    "import pandas as pd \n",
    "import numpy as np\n",
    "import random\n",
    "import math\n",
    "result = pd.read_csv('../data/1_before2016.csv').dropna()\n",
    "\n",
    "X_seq = []\n",
    "y_seq = []\n",
    "for name, content in result.groupby('tic'):\n",
    "    for i in range(len(content.index)-10):\n",
    "        train_seq = []\n",
    "        train_label = []\n",
    "        for j in range(i, i + 10):\n",
    "            train_seq.append(result.iloc[j]['actual'])\n",
    "        train_label.append(result.iloc[i+10]['actual'])\n",
    "        X_seq.append(train_seq)\n",
    "        y_seq.append(train_label)\n",
    "\n",
    "result1 = pd.read_csv('../data/1_after2016.csv').dropna()\n",
    "X_seq1 = []\n",
    "y_seq1 = []\n",
    "for name, content in result.groupby('tic'):\n",
    "    for i in range(len(content.index)-10):\n",
    "        train_seq = []\n",
    "        train_label = []\n",
    "        for j in range(i, i + 10):\n",
    "            train_seq.append(result.iloc[j]['actual'])\n",
    "        train_label.append(result.iloc[i+10]['actual'])\n",
    "        X_seq1.append(train_seq)\n",
    "        y_seq1.append(train_label)\n",
    "\n",
    "X = pd.DataFrame(X_seq)\n",
    "y = pd.DataFrame(y_seq)\n",
    "Xt = pd.DataFrame(X_seq1)\n",
    "yt = pd.DataFrame(y_seq1)"
   ]
  },
  {
   "cell_type": "code",
   "execution_count": 10,
   "metadata": {},
   "outputs": [],
   "source": [
    "N_train = X.shape[0]\n",
    "N_test = Xt.shape[0]\n",
    "X_train = X\n",
    "y_train = y\n",
    "X_test = Xt\n",
    "y_test = yt"
   ]
  },
  {
   "cell_type": "code",
   "execution_count": 14,
   "metadata": {},
   "outputs": [
    {
     "name": "stdout",
     "output_type": "stream",
     "text": [
      "0.05060933775306811 0.900617241866805 0.0\n"
     ]
    }
   ],
   "source": [
    "from sklearn.preprocessing import StandardScaler\n",
    "from sklearn.metrics import mean_squared_error\n",
    "from sklearn.metrics import r2_score\n",
    "from sklearn.svm import SVR\n",
    "\n",
    "scaler = StandardScaler()\n",
    "scaler.fit(X_train)\n",
    "\n",
    "reg = SVR(kernel=\"linear\")\n",
    "reg.fit(scaler.transform(X_train), y_train.values.ravel())\n",
    "\n",
    "y_lr = reg.predict(scaler.transform(X_test))\n",
    "ymean = [np.mean(y_test) for i in range(len(y_test))]\n",
    "mse_lr = mean_squared_error(y_lr, y_test)\n",
    "r2_lr = r2_score(y_test, y_lr)\n",
    "r2 = r2_score(y_test, ymean)\n",
    "print(mse_lr, r2_lr, r2)"
   ]
  },
  {
   "cell_type": "code",
   "execution_count": 23,
   "metadata": {},
   "outputs": [
    {
     "data": {
      "text/plain": [
       "(numpy.ndarray, numpy.ndarray)"
      ]
     },
     "execution_count": 23,
     "metadata": {},
     "output_type": "execute_result"
    }
   ],
   "source": [
    "type(y_lr), type(y_test.values)"
   ]
  },
  {
   "cell_type": "code",
   "execution_count": 22,
   "metadata": {},
   "outputs": [
    {
     "data": {
      "text/plain": [
       "0.1519556750233145"
      ]
     },
     "execution_count": 22,
     "metadata": {},
     "output_type": "execute_result"
    }
   ],
   "source": [
    "def withinten(y_true, y_pred):\n",
    "    sum1 = 0\n",
    "    for i in range(len(y_pred)):\n",
    "        if(y_pred[i] < 1.1*y_true[i] and y_pred[i] > 0.9*y_true[i]):\n",
    "            sum1+=1\n",
    "    return sum1/len(y_pred)\n",
    "withinten(y_test.values, y_lr)"
   ]
  },
  {
   "cell_type": "code",
   "execution_count": 24,
   "metadata": {},
   "outputs": [
    {
     "name": "stdout",
     "output_type": "stream",
     "text": [
      "7.722088748417233e-30 1.0 0.0\n"
     ]
    }
   ],
   "source": [
    "from sklearn.ensemble import RandomForestRegressor\n",
    "\n",
    "forest = RandomForestRegressor(\n",
    "    n_estimators=100,\n",
    "    random_state=1,\n",
    "    n_jobs=-1)\n",
    "forest.fit(scaler.transform(X_train), y_train.values.ravel())\n",
    "\n",
    "y_lr = forest.predict(scaler.transform(X_test))\n",
    "ymean = [np.mean(y_test) for i in range(len(y_test))]\n",
    "mse_lr = mean_squared_error(y_lr, y_test)\n",
    "r2_lr = r2_score(y_test, y_lr)\n",
    "r2 = r2_score(y_test, ymean)\n",
    "print(mse_lr, r2_lr, r2)"
   ]
  },
  {
   "cell_type": "code",
   "execution_count": 25,
   "metadata": {},
   "outputs": [
    {
     "data": {
      "text/plain": [
       "0.9024082505897196"
      ]
     },
     "execution_count": 25,
     "metadata": {},
     "output_type": "execute_result"
    }
   ],
   "source": [
    "def withinten(y_true, y_pred):\n",
    "    sum1 = 0\n",
    "    for i in range(len(y_pred)):\n",
    "        if(y_pred[i] < 1.1*y_true[i] and y_pred[i] > 0.9*y_true[i]):\n",
    "            sum1+=1\n",
    "    return sum1/len(y_pred)\n",
    "withinten(y_test.values, y_lr)"
   ]
  },
  {
   "cell_type": "code",
   "execution_count": null,
   "metadata": {},
   "outputs": [],
   "source": []
  }
 ],
 "metadata": {
  "kernelspec": {
   "display_name": "Python 3",
   "language": "python",
   "name": "python3"
  },
  "language_info": {
   "codemirror_mode": {
    "name": "ipython",
    "version": 3
   },
   "file_extension": ".py",
   "mimetype": "text/x-python",
   "name": "python",
   "nbconvert_exporter": "python",
   "pygments_lexer": "ipython3",
   "version": "3.9.1"
  },
  "orig_nbformat": 4
 },
 "nbformat": 4,
 "nbformat_minor": 2
}

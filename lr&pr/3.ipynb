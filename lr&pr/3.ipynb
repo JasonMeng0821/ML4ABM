{
 "cells": [
  {
   "cell_type": "code",
   "execution_count": 1,
   "metadata": {},
   "outputs": [],
   "source": [
    "import pandas as pd \n",
    "import numpy as np\n",
    "import random\n",
    "result = pd.read_csv('../data/3_before2016.csv').dropna()\n",
    "X_train = result.loc[:,'actq':'lastactual1']\n",
    "y_train = result.loc[:,'actual']\n",
    "anlest_train = result.loc[:,'meanest']\n",
    "N_train = result.shape[0]\n",
    "result1 = pd.read_csv('../data/3_after2016.csv').dropna()\n",
    "X_test = result1.loc[:,'actq':'lastactual1']\n",
    "y_test = result1.loc[:,'actual']\n",
    "anlest_test = result1.loc[:,'meanest']\n",
    "N_test = result1.shape[0]"
   ]
  },
  {
   "cell_type": "code",
   "execution_count": 2,
   "metadata": {},
   "outputs": [
    {
     "data": {
      "text/plain": [
       "((21580, 28), (5845, 28))"
      ]
     },
     "execution_count": 2,
     "metadata": {},
     "output_type": "execute_result"
    }
   ],
   "source": [
    "result.shape, result1.shape"
   ]
  },
  {
   "cell_type": "code",
   "execution_count": 3,
   "metadata": {},
   "outputs": [
    {
     "name": "stdout",
     "output_type": "stream",
     "text": [
      "0.1090111661283148 1.072487171961861 0.9634181608361052 0.6400960137985481 0.0\n"
     ]
    }
   ],
   "source": [
    "from sklearn import linear_model\n",
    "from sklearn.preprocessing import StandardScaler\n",
    "from sklearn.metrics import mean_squared_error\n",
    "from sklearn.metrics import r2_score\n",
    "\n",
    "scaler = StandardScaler()\n",
    "scaler.fit(X_train)\n",
    "\n",
    "reg = linear_model.LinearRegression()\n",
    "reg.fit(scaler.transform(X_train), y_train)\n",
    "\n",
    "y_lr = reg.predict(scaler.transform(X_test))\n",
    "ymean = [np.mean(y_test) for i in range(len(y_test))]\n",
    "mse_analyst = mean_squared_error(anlest_test, y_test)\n",
    "mse_lr = mean_squared_error(y_lr, y_test)\n",
    "r2_analyst = r2_score(y_test, anlest_test)\n",
    "r2_lr = r2_score(y_test, y_lr)\n",
    "r2 = r2_score(y_test, ymean)\n",
    "print(mse_analyst, mse_lr, r2_analyst, r2_lr, r2)"
   ]
  },
  {
   "cell_type": "code",
   "execution_count": 4,
   "metadata": {},
   "outputs": [
    {
     "data": {
      "text/plain": [
       "(0.6278870829769033, 0.2937553464499572, 0.10248075278015398)"
      ]
     },
     "execution_count": 4,
     "metadata": {},
     "output_type": "execute_result"
    }
   ],
   "source": [
    "def withinten(y_true, y_pred):\n",
    "    sum1 = 0\n",
    "    for i in range(len(y_pred)):\n",
    "        if(y_pred[i] < 1.1*y_true[i] and y_pred[i] > 0.9*y_true[i]):\n",
    "            sum1+=1\n",
    "    return sum1/len(y_pred)\n",
    "withinten(list(y_test), list(anlest_test)), withinten(list(y_test), y_lr), withinten(list(y_test), ymean)"
   ]
  },
  {
   "cell_type": "code",
   "execution_count": 5,
   "metadata": {},
   "outputs": [],
   "source": [
    "from sklearn.preprocessing import PolynomialFeatures\n",
    "X_new = pd.read_csv('../data/3_before2016.csv').dropna().sample(frac=1) #.sort_values(by='fyearq' ,ascending=True)\n",
    "X_train = X_new.loc[:, 'actq':'lastactual1']\n",
    "y_train = X_new.loc[:, 'actual']\n",
    "\n",
    "result1 = pd.read_csv('../data/3_after2016.csv').dropna()\n",
    "X_test = result1.loc[:,'actq':'lastactual1']\n",
    "y_test = result1.loc[:,'actual']\n",
    "\n",
    "poly = PolynomialFeatures(2)\n",
    "X_train_op = poly.fit_transform(X_train)"
   ]
  },
  {
   "cell_type": "code",
   "execution_count": 6,
   "metadata": {},
   "outputs": [
    {
     "name": "stdout",
     "output_type": "stream",
     "text": [
      "lambda= 0.0001 ;score= 0.7589284098058362\n",
      "lambda= 0.001 ;score= 0.7589286902518838\n",
      "lambda= 0.01 ;score= 0.7589314943479163\n",
      "lambda= 0.1 ;score= 0.7589594989044818\n",
      "lambda= 1 ;score= 0.759235944164792\n",
      "lambda= 10 ;score= 0.7616766801213808\n",
      "lambda= 100 ;score= 0.7705638737626799\n",
      "lambda= 1000 ;score= 0.7672268817768481\n",
      "lambda= 10000 ;score= 0.6862934107411782\n",
      "lambda= 100000 ;score= 0.43246868097996916\n"
     ]
    }
   ],
   "source": [
    "from sklearn.linear_model import Ridge\n",
    "from sklearn.preprocessing import StandardScaler\n",
    "\n",
    "X_ridge = X_train_op\n",
    "N = X_ridge.shape[0]\n",
    "train = int(0.8*N)\n",
    "valid = N - train\n",
    "X_ridge_train = X_ridge[:train]\n",
    "y_ridge_train = y_train[:train]\n",
    "X_ridge_valid = X_ridge[train:]\n",
    "y_ridge_valid = y_train[train:]\n",
    "\n",
    "scaler1 = StandardScaler()\n",
    "scaler1.fit(X_ridge_train)\n",
    "X_ridge_train = scaler1.transform(X_ridge_train)\n",
    "X_ridge_train[:,0] = np.ones(X_ridge_train.shape[0])\n",
    "X_ridge_valid = scaler1.transform(X_ridge_valid)\n",
    "X_ridge_valid[:,0] = np.ones(X_ridge_valid.shape[0])\n",
    "\n",
    "for lbd in [0.0001, 0.001, 0.01, 0.1, 1, 10, 100, 1000, 10000, 100000]:\n",
    "    clf = Ridge(alpha=lbd, solver='lsqr')\n",
    "    clf.fit(X_ridge_train, y_ridge_train)\n",
    "    print(\"lambda=\", lbd, \";score=\", clf.score(X_ridge_valid, y_ridge_valid))"
   ]
  },
  {
   "cell_type": "code",
   "execution_count": 16,
   "metadata": {},
   "outputs": [
    {
     "name": "stdout",
     "output_type": "stream",
     "text": [
      "1.8084367834571533 0.3931269070855544 0.2135158254918734\n"
     ]
    }
   ],
   "source": [
    "from sklearn.pipeline import make_pipeline\n",
    "\n",
    "clf = make_pipeline(PolynomialFeatures(2), StandardScaler(), Ridge(alpha=10000))\n",
    "clf.fit(X_train, y_train)\n",
    "y_pred_clf = clf.predict(X_test)\n",
    "clf_loss = mean_squared_error(y_test, y_pred_clf)\n",
    "r2_clf = r2_score(y_test, y_pred_clf)\n",
    "print(clf_loss, r2_clf, withinten(list(y_test), y_pred_clf))"
   ]
  },
  {
   "cell_type": "code",
   "execution_count": null,
   "metadata": {},
   "outputs": [],
   "source": []
  }
 ],
 "metadata": {
  "kernelspec": {
   "display_name": "Python 3",
   "language": "python",
   "name": "python3"
  },
  "language_info": {
   "codemirror_mode": {
    "name": "ipython",
    "version": 3
   },
   "file_extension": ".py",
   "mimetype": "text/x-python",
   "name": "python",
   "nbconvert_exporter": "python",
   "pygments_lexer": "ipython3",
   "version": "3.9.1"
  },
  "orig_nbformat": 4,
  "vscode": {
   "interpreter": {
    "hash": "397704579725e15f5c7cb49fe5f0341eb7531c82d19f2c29d197e8b64ab5776b"
   }
  }
 },
 "nbformat": 4,
 "nbformat_minor": 2
}

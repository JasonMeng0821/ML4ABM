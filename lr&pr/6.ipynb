{
 "cells": [
  {
   "cell_type": "code",
   "execution_count": 1,
   "metadata": {},
   "outputs": [],
   "source": [
    "import pandas as pd \n",
    "import numpy as np\n",
    "import random\n",
    "import math\n",
    "result = pd.read_csv('../data/1_before2016.csv').dropna()\n",
    "\n",
    "X_seq = []\n",
    "y_seq = []\n",
    "for name, content in result.groupby('tic'):\n",
    "    for i in range(len(content.index)-10):\n",
    "        train_seq = []\n",
    "        train_label = []\n",
    "        for j in range(i, i + 10):\n",
    "            train_seq.append(result.iloc[j]['actual'])\n",
    "        train_label.append(result.iloc[i+10]['actual'])\n",
    "        X_seq.append(train_seq)\n",
    "        y_seq.append(train_label)\n",
    "\n",
    "result1 = pd.read_csv('../data/1_after2016.csv').dropna()\n",
    "X_seq1 = []\n",
    "y_seq1 = []\n",
    "for name, content in result.groupby('tic'):\n",
    "    for i in range(len(content.index)-10):\n",
    "        train_seq = []\n",
    "        train_label = []\n",
    "        for j in range(i, i + 10):\n",
    "            train_seq.append(result.iloc[j]['actual'])\n",
    "        train_label.append(result.iloc[i+10]['actual'])\n",
    "        X_seq1.append(train_seq)\n",
    "        y_seq1.append(train_label)\n",
    "\n",
    "X = pd.DataFrame(X_seq)\n",
    "y = pd.DataFrame(y_seq)\n",
    "Xt = pd.DataFrame(X_seq1)\n",
    "yt = pd.DataFrame(y_seq1)"
   ]
  },
  {
   "cell_type": "code",
   "execution_count": 2,
   "metadata": {},
   "outputs": [],
   "source": [
    "N_train = X.shape[0]\n",
    "N_test = Xt.shape[0]\n",
    "X_train = X\n",
    "y_train = y\n",
    "X_test = Xt\n",
    "y_test = yt"
   ]
  },
  {
   "cell_type": "code",
   "execution_count": 3,
   "metadata": {},
   "outputs": [
    {
     "name": "stdout",
     "output_type": "stream",
     "text": [
      "0.04694892747111307 0.9078052764444309 0.0\n"
     ]
    }
   ],
   "source": [
    "from sklearn import linear_model\n",
    "from sklearn.preprocessing import StandardScaler\n",
    "from sklearn.metrics import mean_squared_error\n",
    "from sklearn.metrics import r2_score\n",
    "\n",
    "scaler = StandardScaler()\n",
    "scaler.fit(X_train)\n",
    "\n",
    "reg = linear_model.LinearRegression()\n",
    "reg.fit(scaler.transform(X_train), y_train)\n",
    "\n",
    "y_lr = reg.predict(scaler.transform(X_test))\n",
    "ymean = [np.mean(y_test) for i in range(len(y_test))]\n",
    "mse_lr = mean_squared_error(y_lr, y_test)\n",
    "r2_lr = r2_score(y_test, y_lr)\n",
    "r2 = r2_score(y_test, ymean)\n",
    "print(mse_lr, r2_lr, r2)"
   ]
  },
  {
   "cell_type": "code",
   "execution_count": 5,
   "metadata": {},
   "outputs": [
    {
     "data": {
      "text/plain": [
       "(0.24137363541609524, 0.1217839705963026)"
      ]
     },
     "execution_count": 5,
     "metadata": {},
     "output_type": "execute_result"
    }
   ],
   "source": [
    "def withinten(y_true, y_pred):\n",
    "    sum1 = 0\n",
    "    for i in range(len(y_pred)):\n",
    "        if(y_pred[i][0] < 1.1*y_true.iloc[i,0] and y_pred[i][0] > 0.9*y_true.iloc[i,0]):\n",
    "            sum1+=1\n",
    "    return sum1/len(y_pred)\n",
    "withinten(y_test, y_lr), withinten(y_test, ymean)"
   ]
  },
  {
   "cell_type": "code",
   "execution_count": 6,
   "metadata": {},
   "outputs": [
    {
     "name": "stdout",
     "output_type": "stream",
     "text": [
      "lambda= 0.01 ;score= 0.9846156553896211\n",
      "lambda= 0.1 ;score= 0.9847177819171201\n",
      "lambda= 1 ;score= 0.9831804287459208\n",
      "lambda= 10 ;score= 0.9757425982794681\n",
      "lambda= 100 ;score= 0.9559502422750588\n",
      "lambda= 1000 ;score= 0.9306849005305313\n",
      "lambda= 10000 ;score= 0.8966761185569536\n",
      "lambda= 100000 ;score= 0.6981113425159788\n"
     ]
    }
   ],
   "source": [
    "from sklearn.preprocessing import PolynomialFeatures\n",
    "poly = PolynomialFeatures(2)\n",
    "X_train_op = poly.fit_transform(X_train)\n",
    "\n",
    "from sklearn.linear_model import Ridge\n",
    "from sklearn.preprocessing import StandardScaler\n",
    "\n",
    "X_ridge = X_train_op\n",
    "N = X_ridge.shape[0]\n",
    "train = int(0.8*N)\n",
    "valid = N - train\n",
    "X_ridge_train = X_ridge[:train]\n",
    "y_ridge_train = y_train[:train]\n",
    "X_ridge_valid = X_ridge[train:]\n",
    "y_ridge_valid = y_train[train:]\n",
    "\n",
    "scaler1 = StandardScaler()\n",
    "scaler1.fit(X_ridge_train)\n",
    "X_ridge_train = scaler1.transform(X_ridge_train)\n",
    "X_ridge_train[:,0] = np.ones(X_ridge_train.shape[0])\n",
    "X_ridge_valid = scaler1.transform(X_ridge_valid)\n",
    "X_ridge_valid[:,0] = np.ones(X_ridge_valid.shape[0])\n",
    "\n",
    "for lbd in [0.01, 0.1, 1, 10, 100, 1000, 10000, 100000]:\n",
    "    clf = Ridge(alpha=lbd, solver='lsqr')\n",
    "    clf.fit(X_ridge_train, y_ridge_train)\n",
    "    print(\"lambda=\", lbd, \";score=\", clf.score(X_ridge_valid, y_ridge_valid))"
   ]
  },
  {
   "cell_type": "code",
   "execution_count": 7,
   "metadata": {},
   "outputs": [
    {
     "name": "stdout",
     "output_type": "stream",
     "text": [
      "0.009112766155887811 0.98210504474068 0.5280048274727083\n"
     ]
    }
   ],
   "source": [
    "from sklearn.pipeline import make_pipeline\n",
    "\n",
    "clf = make_pipeline(PolynomialFeatures(2), StandardScaler(), Ridge(alpha=0.1, solver='lsqr'))\n",
    "clf.fit(X_train, y_train)\n",
    "y_pred_clf = clf.predict(X_test)\n",
    "clf_loss = mean_squared_error(y_test, y_pred_clf)\n",
    "r2_clf = r2_score(y_test, y_pred_clf)\n",
    "print(clf_loss, r2_clf, withinten(y_test, y_pred_clf))"
   ]
  },
  {
   "cell_type": "code",
   "execution_count": null,
   "metadata": {},
   "outputs": [],
   "source": []
  }
 ],
 "metadata": {
  "kernelspec": {
   "display_name": "Python 3",
   "language": "python",
   "name": "python3"
  },
  "language_info": {
   "codemirror_mode": {
    "name": "ipython",
    "version": 3
   },
   "file_extension": ".py",
   "mimetype": "text/x-python",
   "name": "python",
   "nbconvert_exporter": "python",
   "pygments_lexer": "ipython3",
   "version": "3.9.1"
  },
  "orig_nbformat": 4,
  "vscode": {
   "interpreter": {
    "hash": "397704579725e15f5c7cb49fe5f0341eb7531c82d19f2c29d197e8b64ab5776b"
   }
  }
 },
 "nbformat": 4,
 "nbformat_minor": 2
}
